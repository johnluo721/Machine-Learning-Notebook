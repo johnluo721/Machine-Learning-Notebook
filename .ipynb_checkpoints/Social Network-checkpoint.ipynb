{
 "cells": [
  {
   "cell_type": "markdown",
   "metadata": {},
   "source": [
    "## Social Network - Networkx"
   ]
  },
  {
   "cell_type": "markdown",
   "metadata": {},
   "source": [
    "Python Package networkx\n",
    "\n",
    "\n",
    "Adjacency List\n",
    "\n",
    "nx.read_adjlist() : read adjacency list file\n",
    "G2.edges() : list the edge of social network\n",
    "\n",
    "Adjacency Matrix: different form of presenting network relationship. \n",
    "nx.read_edgelist(): list of tuple with name and type of each edge attribute.\n",
    "\n",
    "add items to network\n",
    "\n",
    "\n",
    "**Network visualisation**  \n",
    "G1=nx.Graph(): initalise network graph called G\n",
    "G1.add_node(): add single node \n",
    "G1.add_node(): add single edge \n",
    "G1.remove_node():\n",
    "G1.remove_edge()\n",
    "G1.add_edges_from():  add edge pair  \n",
    "G1.add_nodes_from(): add node edgpair  \n",
    "G1.add_weighted_edges_from(): \n",
    "nx.draw_networkx(G1): draw graph  \n",
    "\n",
    "access node and edges \n",
    "nx.shorest_path(): find the shorest path between two node\n",
    "G1.neighbors(): find connected neighbor node\n",
    "g1.degree(): find number of node connect to the target node\n",
    "G1.successors()\n",
    "G1.predecessors()\n",
    "\n",
    "convert_to_undirected(G1): convert to undirect graph\n",
    "convert_to_directed(G1): convert to direct graph\n",
    "\n"
   ]
  },
  {
   "cell_type": "markdown",
   "metadata": {},
   "source": [
    "### Network Centrality\n",
    "Identify most important nodes in network. Node at central of graph? nodes connect to other nodes, nodes which pass through by shortest distance of other nodes\n",
    "\n",
    "\n",
    "**Degrees Centrality:** Important nodes have many neigbours, which means connect to most of node in the network. degree centrality for a node calculate as total nodes connected divide by all the nodes-1 in the network. For directgraph, it have in_degree and out_degree two versions.   \n",
    "\n",
    "**closeness Centrality:** Important node are close to other nodes. A nodes cloesness centrality caculate as (number of nodes -1)/number of shortest path length from the node.  \n",
    "\n",
    "**Betweenness Centrality** Important nodes connect other nodes. Nodes which in the shorest path of connecting two nodes in graph. It calculated as Number of shorest path which pass through the node/ Number of shortest path for all pair of nodes. larger the better. \n",
    "\n",
    "Normalizing: "
   ]
  },
  {
   "cell_type": "code",
   "execution_count": 1,
   "metadata": {},
   "outputs": [],
   "source": [
    "import networkx as nx\n",
    "import pandas as pd\n",
    "import numpy as np\n",
    "import pickle"
   ]
  },
  {
   "cell_type": "markdown",
   "metadata": {},
   "source": [
    "### Read/Import network Data"
   ]
  },
  {
   "cell_type": "code",
   "execution_count": null,
   "metadata": {},
   "outputs": [],
   "source": []
  }
 ],
 "metadata": {
  "kernelspec": {
   "display_name": "Python 3",
   "language": "python",
   "name": "python3"
  },
  "language_info": {
   "codemirror_mode": {
    "name": "ipython",
    "version": 3
   },
   "file_extension": ".py",
   "mimetype": "text/x-python",
   "name": "python",
   "nbconvert_exporter": "python",
   "pygments_lexer": "ipython3",
   "version": "3.6.4"
  }
 },
 "nbformat": 4,
 "nbformat_minor": 2
}
